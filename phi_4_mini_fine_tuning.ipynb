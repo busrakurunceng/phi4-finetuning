{
  "nbformat": 4,
  "nbformat_minor": 0,
  "metadata": {
    "colab": {
      "provenance": [],
      "gpuType": "T4",
      "authorship_tag": "ABX9TyMcr8tN1f+GDOhiO0Biwh6G",
      "include_colab_link": true
    },
    "kernelspec": {
      "name": "python3",
      "display_name": "Python 3"
    },
    "language_info": {
      "name": "python"
    },
    "accelerator": "GPU"
  },
  "cells": [
    {
      "cell_type": "markdown",
      "metadata": {
        "id": "view-in-github",
        "colab_type": "text"
      },
      "source": [
        "<a href=\"https://colab.research.google.com/github/busrakurunceng/phi4-finetuning/blob/main/phi_4_mini_fine_tuning.ipynb\" target=\"_parent\"><img src=\"https://colab.research.google.com/assets/colab-badge.svg\" alt=\"Open In Colab\"/></a>"
      ]
    },
    {
      "cell_type": "markdown",
      "source": [
        "# 📄 Fine-tuning Phi-4 Mini Instruct"
      ],
      "metadata": {
        "id": "4V8a-vRE2ghT"
      }
    },
    {
      "cell_type": "markdown",
      "source": [
        " Fine-tuning Phi-4 Mini Instruct Model\n",
        "\n",
        " This notebook demonstrates how to fine-tune the `microsoft/phi-4-mini-instruct` model using the Hugging Face `transformers` library.\n",
        "\n",
        " We will:\n",
        " - Load the model and tokenizer\n",
        " - Prepare a small dataset\n",
        " - Fine-tune the model\n",
        " - Save the fine-tuned model\n",
        " - Log the training loss in a clean tabular format\n",
        "\n",
        "---"
      ],
      "metadata": {
        "id": "LiWYyh9CzUPm"
      }
    },
    {
      "cell_type": "markdown",
      "source": [
        "## 1. Install Required Libraries and Import Libraries"
      ],
      "metadata": {
        "id": "BgqO8aIyzh-9"
      }
    },
    {
      "cell_type": "code",
      "execution_count": null,
      "metadata": {
        "id": "bYdJ_gzAWpXB"
      },
      "outputs": [],
      "source": [
        "!pip install transformers datasets accelerate peft trl bitsandbytes"
      ]
    },
    {
      "cell_type": "code",
      "source": [
        "from transformers import AutoModelForCausalLM, AutoTokenizer, TrainingArguments, Trainer\n",
        "from datasets import load_dataset\n",
        "from peft import LoraConfig, get_peft_model, prepare_model_for_kbit_training\n",
        "from transformers import TrainerCallback\n",
        "from tabulate import tabulate"
      ],
      "metadata": {
        "id": "119L5ffv06wI"
      },
      "execution_count": null,
      "outputs": []
    },
    {
      "cell_type": "markdown",
      "source": [
        "Download the model and tokenizer from Hugging Face.\n",
        "\n"
      ],
      "metadata": {
        "id": "aor400KT21oO"
      }
    },
    {
      "cell_type": "code",
      "source": [
        "\n",
        "model_id = \"microsoft/Phi-4-mini-instruct\"\n",
        "\n",
        "model = AutoModelForCausalLM.from_pretrained(\n",
        "    model_id,\n",
        "    device_map=\"auto\",\n",
        "    load_in_4bit=True,  # 4-bit modunda yükle\n",
        "    trust_remote_code=True\n",
        ")\n",
        "\n",
        "tokenizer = AutoTokenizer.from_pretrained(\n",
        "    model_id,\n",
        "    trust_remote_code=True\n",
        ")\n"
      ],
      "metadata": {
        "id": "3jMVD14MZ7-v"
      },
      "execution_count": null,
      "outputs": []
    },
    {
      "cell_type": "markdown",
      "source": [
        "## 2.Install Model and Tokenizer"
      ],
      "metadata": {
        "id": "BURisdp3zk59"
      }
    },
    {
      "cell_type": "code",
      "source": [
        "\n",
        "# Modeli k-bit eğitime hazırla (4-bit olduğundan şart)\n",
        "model = prepare_model_for_kbit_training(model)\n",
        "\n",
        "# LoRA ayarları\n",
        "lora_config = LoraConfig(\n",
        "    r=8,\n",
        "    lora_alpha=32,\n",
        "    target_modules=[\"self_attn.qkv_proj\", \"self_attn.o_proj\", \"mlp.gate_up_proj\", \"mlp.down_proj\"],\n",
        "    lora_dropout=0.05,\n",
        "    bias=\"none\",\n",
        "    task_type=\"CAUSAL_LM\"\n",
        ")\n",
        "\n",
        "\n",
        "model = get_peft_model(model, lora_config)"
      ],
      "metadata": {
        "id": "hWXaOUOaZ8Iu"
      },
      "execution_count": null,
      "outputs": []
    },
    {
      "cell_type": "markdown",
      "source": [
        "## 3. Make Dataset"
      ],
      "metadata": {
        "id": "5z__mfCbz4rs"
      }
    },
    {
      "cell_type": "code",
      "source": [
        "# Örnek kendi veri kümesi\n",
        "sample_data = [\n",
        "    {\n",
        "        \"messages\": [\n",
        "            {\"role\": \"user\", \"content\": \"What is machine learning?\"},\n",
        "            {\"role\": \"assistant\", \"content\": \"Machine learning is a field of AI focused on building systems that learn from data.\"}\n",
        "        ]\n",
        "    },\n",
        "    {\n",
        "        \"messages\": [\n",
        "            {\"role\": \"user\", \"content\": \"Explain natural language processing.\"},\n",
        "            {\"role\": \"assistant\", \"content\": \"Natural language processing involves teaching machines to understand human language.\"}\n",
        "        ]\n",
        "    }\n",
        "]\n",
        "\n",
        "import json\n",
        "\n",
        "# JSONL dosyasına kaydet\n",
        "with open('train.jsonl', 'w') as f:\n",
        "    for item in sample_data:\n",
        "        f.write(json.dumps(item) + \"\\n\")\n",
        "\n",
        "# Dataseti yükle\n",
        "dataset = load_dataset(\"json\", data_files=\"train.jsonl\")[\"train\"]\n"
      ],
      "metadata": {
        "id": "OYnTsxLman7G"
      },
      "execution_count": null,
      "outputs": []
    },
    {
      "cell_type": "markdown",
      "source": [
        "## 4. Tokenize Dataset"
      ],
      "metadata": {
        "id": "W9p7bmq20LHu"
      }
    },
    {
      "cell_type": "code",
      "source": [
        "def tokenize_function(example):\n",
        "    user_message = example['messages'][0]['content']\n",
        "    assistant_message = example['messages'][1]['content']\n",
        "    prompt = f\"<|user|>\\n{user_message}\\n<|assistant|>\\n{assistant_message}\"\n",
        "    result = tokenizer(prompt, truncation=True, padding=\"max_length\", max_length=512)\n",
        "    result[\"labels\"] = result[\"input_ids\"].copy()\n",
        "    return result\n",
        "\n",
        "tokenized_dataset = dataset.map(tokenize_function, batched=False)"
      ],
      "metadata": {
        "id": "ijf8TGyTbHGd"
      },
      "execution_count": null,
      "outputs": []
    },
    {
      "cell_type": "markdown",
      "source": [
        "## 5. Define Custom Logging Callback\n",
        "This callback formats the loss output in a clean table every logging step."
      ],
      "metadata": {
        "id": "qyJ9XRbQ0aMR"
      }
    },
    {
      "cell_type": "code",
      "source": [
        "class LoggingCallback(TrainerCallback):\n",
        "    def on_log(self, args, state, control, logs=None, **kwargs):\n",
        "        if logs is not None:\n",
        "            table = [\n",
        "                [\"Step\", state.global_step],\n",
        "                [\"Training Loss\", round(logs.get(\"loss\", 0.0), 4)]\n",
        "            ]\n",
        "            print(tabulate(table, headers=[\"Metric\", \"Value\"], tablefmt=\"fancy_grid\"))"
      ],
      "metadata": {
        "id": "2w573bkBgh8F"
      },
      "execution_count": null,
      "outputs": []
    },
    {
      "cell_type": "markdown",
      "source": [
        "## 6. Define Training Arguments\n",
        "\n",
        "Set up training parameters: batch size, epochs, logging, and precision settings. Prepare the Hugging Face Trainer with the model, training arguments, and the dataset.\n"
      ],
      "metadata": {
        "id": "AzFedu_s0g9h"
      }
    },
    {
      "cell_type": "code",
      "source": [
        "from transformers import TrainingArguments, Trainer\n",
        "\n",
        "training_args = TrainingArguments(\n",
        "    output_dir=\"./phi4-finetuned\",\n",
        "    per_device_train_batch_size=2,\n",
        "    gradient_accumulation_steps=2,\n",
        "    num_train_epochs=2,\n",
        "    logging_steps=20,\n",
        "    save_steps=100,\n",
        "    save_total_limit=1,\n",
        "    fp16=True,\n",
        "    report_to=\"none\",\n",
        "    disable_tqdm=True  # TQDM progress bar kapalı çünkü tablo basacağız\n",
        ")\n",
        "\n",
        "\n",
        "trainer = Trainer(\n",
        "    model=model,\n",
        "    args=training_args,\n",
        "    train_dataset=tokenized_dataset,\n",
        "    tokenizer=tokenizer,\n",
        "    callbacks=[LoggingCallback()]\n",
        ")\n",
        "\n"
      ],
      "metadata": {
        "id": "fl9pM1GwbLbx"
      },
      "execution_count": null,
      "outputs": []
    },
    {
      "cell_type": "markdown",
      "source": [
        "## 7. Start Training\n",
        "Fine-tune the model on the prepared dataset!\n",
        "\n"
      ],
      "metadata": {
        "id": "Qi5R35NV0oVg"
      }
    },
    {
      "cell_type": "code",
      "source": [
        "trainer.train()"
      ],
      "metadata": {
        "id": "zF41FAo0bT2E"
      },
      "execution_count": null,
      "outputs": []
    },
    {
      "cell_type": "markdown",
      "source": [
        "## 8. Save the Fine-tuned Model\n",
        "Save the fine-tuned model and tokenizer for future use."
      ],
      "metadata": {
        "id": "DsOhR09O3fP4"
      }
    },
    {
      "cell_type": "code",
      "source": [
        "trainer.save_model(\"./phi4-finetuned-final\")\n",
        "tokenizer.save_pretrained(\"./phi4-finetuned-final\")\n"
      ],
      "metadata": {
        "id": "e5c8jBG91Rx4"
      },
      "execution_count": null,
      "outputs": []
    },
    {
      "cell_type": "code",
      "source": [],
      "metadata": {
        "id": "jbUPilTb3z8A"
      },
      "execution_count": null,
      "outputs": []
    }
  ]
}